{
 "cells": [
  {
   "cell_type": "code",
   "execution_count": 4,
   "metadata": {},
   "outputs": [],
   "source": [
    "import numpy as np\n",
    "from utils import *\n",
    "import pandas as pd"
   ]
  },
  {
   "cell_type": "code",
   "execution_count": 5,
   "metadata": {},
   "outputs": [],
   "source": [
    "# Number of FL training rounds:\n",
    "n_rounds = 100\n",
    "\n",
    "# Common carbon budget\n",
    "global_carbon_budget = 7 # kgCO2e\n",
    "\n",
    "# Uniform carbon budget\n",
    "carbon_budget = 1 # kgCO2eq\n",
    "\n",
    "# list of countries/clients:\n",
    "countries = ['Ireland', 'Germany', 'Great Britain', 'France', 'Sweden', 'Finland', 'Belgium']\n",
    "\n",
    "formatted_array = [i for i in range(n_rounds)]"
   ]
  },
  {
   "cell_type": "code",
   "execution_count": 3,
   "metadata": {},
   "outputs": [],
   "source": [
    "def create_matrix_with_correlated_zeros(num_rows, num_cols, num_zeros_per_row, correlation_strength=0.8):\n",
    "    \"\"\"\n",
    "    Create a matrix with ones and zeros, with the exact number of zeros per row,\n",
    "    while introducing positive correlation among the zero positions.\n",
    "    \n",
    "    Args:\n",
    "        num_rows: Number of rows in the matrix.\n",
    "        num_cols: Number of columns in the matrix.\n",
    "        num_zeros_per_row: List of number of zeros per row (must be less than or equal to num_cols for each row).\n",
    "        correlation_strength: A value between 0 and 1, indicating how strongly the zeros should cluster together (1 is strongest).\n",
    "        \n",
    "    Returns:\n",
    "        A numpy matrix with ones and zeros, where zeros are positively correlated.\n",
    "    \"\"\"\n",
    "    matrix = np.ones((num_rows, num_cols), dtype=int)\n",
    "    \n",
    "    for i in range(num_rows):\n",
    "        num_zeros = num_zeros_per_row[i]\n",
    "        if num_zeros < 0 or num_zeros > num_cols:\n",
    "            raise ValueError(\"Invalid number of zeros per row.\")\n",
    "        \n",
    "        # Start by randomly picking the first zero's position\n",
    "        first_zero = np.random.randint(0, num_cols)\n",
    "        zero_positions = [first_zero]\n",
    "        \n",
    "        # Keep placing the remaining zeros\n",
    "        for _ in range(1, num_zeros):\n",
    "            # Create a probability distribution biased toward adjacent positions\n",
    "            prob_dist = np.ones(num_cols)\n",
    "            for pos in zero_positions:\n",
    "                # Increase probabilities near existing zeros to introduce positive correlation\n",
    "                if pos > 0:\n",
    "                    prob_dist[pos - 1] += correlation_strength\n",
    "                if pos < num_cols - 1:\n",
    "                    prob_dist[pos + 1] += correlation_strength\n",
    "            \n",
    "            # Mask positions that already have zeros\n",
    "            prob_dist[zero_positions] = 0\n",
    "            \n",
    "            # Normalize the probability distribution\n",
    "            prob_dist /= prob_dist.sum()\n",
    "            \n",
    "            # Choose the next zero based on the biased probability distribution\n",
    "            next_zero = np.random.choice(num_cols, p=prob_dist)\n",
    "            zero_positions.append(next_zero)\n",
    "        \n",
    "        # Set the selected zero positions in the current row\n",
    "        matrix[i, zero_positions] = 0\n",
    "    \n",
    "    return matrix\n",
    "\n",
    "def pipeline(matrix):\n",
    "    matrix = create_matrix_with_correlated_zeros(num_rows, num_cols, num_zeros_per_row, correlation_strength)\n",
    "\n",
    "    availability_matrix  = pd.DataFrame(matrix, index = countries, columns = formatted_array)\n",
    "    plot_availability_heatmap(\"Availability with carbon budget\", availability_matrix, key_word='test', folder='figures/tests')\n",
    "\n",
    "\n",
    "    lam2_list, corr = av_mat_corr(availability_matrix)\n",
    "    print('Countries lambda_2: ',list(np.round(lam2_list, 2)))\n",
    "    print('Mean lambda_2: ',np.round(corr, 2))"
   ]
  },
  {
   "cell_type": "code",
   "execution_count": 25,
   "metadata": {},
   "outputs": [
    {
     "data": {
      "image/png": "[encoded data removed]",
      "text/plain": [
       "<Figure size 700x200 with 1 Axes>"
      ]
     },
     "metadata": {},
     "output_type": "display_data"
    },
    {
     "name": "stdout",
     "output_type": "stream",
     "text": [
      "Countries lambda_2:  [0.81, 0.69, 0.89, 0.66, 0.79, 0.8, 0.89]\n",
      "Mean lambda_2:  0.79\n"
     ]
    }
   ],
   "source": [
    "# Example usage:\n",
    "num_rows = 7\n",
    "num_cols = 100\n",
    "num_zeros_per_row = [70 for i in range(num_rows)]  # Exact number of zeros per row\n",
    "correlation_strength = 50  # Strong positive correlation\n",
    "\n"
   ]
  }
 ],
 "metadata": {
  "kernelspec": {
   "display_name": "venv_greenFL_2",
   "language": "python",
   "name": "python3"
  },
  "language_info": {
   "codemirror_mode": {
    "name": "ipython",
    "version": 3
   },
   "file_extension": ".py",
   "mimetype": "text/x-python",
   "name": "python",
   "nbconvert_exporter": "python",
   "pygments_lexer": "ipython3",
   "version": "3.9.7"
  }
 },
 "nbformat": 4,
 "nbformat_minor": 2
}
