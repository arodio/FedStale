{
 "cells": [
  {
   "cell_type": "code",
   "execution_count": 1,
   "id": "23da5ecb-f5be-44e7-bb6d-3c3ff29df7b4",
   "metadata": {},
   "outputs": [],
   "source": [
    "import pandas as pd\n",
    "import matplotlib.pyplot as plt\n",
    "from datetime import datetime, timedelta\n",
    "from utils import *\n",
    "import math\n",
    "\n",
    "from scipy import optimize\n",
    "from scipy.optimize import milp\n",
    "\n",
    "from gekko import GEKKO\n",
    "from scipy.optimize import linprog\n",
    "import cvxpy as cp\n",
    "import copy\n",
    "\n",
    "import os\n",
    "os.environ['MOSEKLM_LICENCE_FILE'] = \"../../mosek\""
   ]
  },
  {
   "cell_type": "code",
   "execution_count": 2,
   "id": "06929ba1-2ff9-41f4-9665-eda8b4b01421",
   "metadata": {},
   "outputs": [],
   "source": [
    "# Number of FL training rounds:\n",
    "n_rounds = 100\n",
    "\n",
    "# Common carbon budget\n",
    "global_carbon_budget = 7 # kgCO2e\n",
    "\n",
    "# Uniform carbon budget\n",
    "carbon_budget = 1 # kgCO2eq\n",
    "\n",
    "# list of countries/clients:\n",
    "countries = ['Ireland', 'Germany', 'Great Britain', 'France', 'Sweden', 'Finland', 'Belgium']\n",
    "list_colors = ['blue', 'green', 'orange', 'red', 'purple', 'pink', 'yellow']"
   ]
  },
  {
   "cell_type": "code",
   "execution_count": 5,
   "id": "e3a40808-a041-4188-8864-25869e0e2e8a",
   "metadata": {},
   "outputs": [],
   "source": [
    "# Correlated case"
   ]
  },
  {
   "cell_type": "code",
   "execution_count": 11,
   "id": "5b042e1b-6c4e-4c82-b992-c6692755bfec",
   "metadata": {},
   "outputs": [
    {
     "data": {
      "text/plain": [
       "<matplotlib.image.AxesImage at 0x7fc4a3daa2e0>"
      ]
     },
     "execution_count": 11,
     "metadata": {},
     "output_type": "execute_result"
    },
    {
     "data": {
      "image/png": "[encoded data removed]",
      "text/plain": [
       "<Figure size 640x480 with 1 Axes>"
      ]
     },
     "metadata": {},
     "output_type": "display_data"
    }
   ],
   "source": [
    "avail_mat = pd.read_csv(\"availability_matrices/av-mat-3/av-mat_markov_spots_corr.csv\", index_col=0)\n",
    "plt.imshow(avail_mat)"
   ]
  },
  {
   "cell_type": "code",
   "execution_count": 12,
   "id": "efc7a8e2-3e51-4257-8569-83954c383919",
   "metadata": {},
   "outputs": [],
   "source": [
    "idx = 10\n",
    "avail_mat.iloc[:, -idx:] = 1"
   ]
  },
  {
   "cell_type": "code",
   "execution_count": 14,
   "id": "5a458751-2519-42f6-8ec4-4cafb2b5be61",
   "metadata": {},
   "outputs": [],
   "source": [
    "avail_mat.to_csv(\"availability_matrices/av-mat-3/av-mat_markov_spots_corr_fine_tuning.csv\")"
   ]
  },
  {
   "cell_type": "code",
   "execution_count": 18,
   "id": "49659e9e-a9f6-40e0-b198-2d28078f422f",
   "metadata": {},
   "outputs": [
    {
     "data": {
      "image/png": "[encoded data removed]",
      "text/plain": [
       "<Figure size 640x480 with 1 Axes>"
      ]
     },
     "metadata": {},
     "output_type": "display_data"
    }
   ],
   "source": [
    "avail_mat = pd.read_csv(\"availability_matrices/av-mat-3/av-mat_markov_spots_uncorr.csv\", index_col=0)\n",
    "plt.imshow(avail_mat)\n",
    "avail_mat.iloc[:, -idx:] = 1"
   ]
  },
  {
   "cell_type": "code",
   "execution_count": 19,
   "id": "3554d78f-6ec1-4419-ae41-e455d6ad0fba",
   "metadata": {},
   "outputs": [
    {
     "data": {
      "text/plain": [
       "<matplotlib.image.AxesImage at 0x7fc4a1b414c0>"
      ]
     },
     "execution_count": 19,
     "metadata": {},
     "output_type": "execute_result"
    },
    {
     "data": {
      "image/png": "[encoded data removed]",
      "text/plain": [
       "<Figure size 640x480 with 1 Axes>"
      ]
     },
     "metadata": {},
     "output_type": "display_data"
    }
   ],
   "source": [
    "plt.imshow(avail_mat)"
   ]
  },
  {
   "cell_type": "code",
   "execution_count": 20,
   "id": "085aaba3-7936-4ec6-8340-8a2e7bed4353",
   "metadata": {},
   "outputs": [
    {
     "ename": "NameError",
     "evalue": "name 'avil_mat' is not defined",
     "output_type": "error",
     "traceback": [
      "\u001b[0;31m---------------------------------------------------------------------------\u001b[0m",
      "\u001b[0;31mNameError\u001b[0m                                 Traceback (most recent call last)",
      "Cell \u001b[0;32mIn[20], line 1\u001b[0m\n\u001b[0;32m----> 1\u001b[0m \u001b[43mavil_mat\u001b[49m\u001b[38;5;241m.\u001b[39mto_csv(\u001b[38;5;124m\"\u001b[39m\u001b[38;5;124mavailability_matrices/av-mat-3/av-mat_markov_spots_uncorr_fine_tuning.csv\u001b[39m\u001b[38;5;124m\"\u001b[39m)\n",
      "\u001b[0;31mNameError\u001b[0m: name 'avil_mat' is not defined"
     ]
    }
   ],
   "source": [
    "avil_mat.to_csv(\"availability_matrices/av-mat-3/av-mat_markov_spots_uncorr_fine_tuning.csv\")"
   ]
  },
  {
   "cell_type": "code",
   "execution_count": null,
   "id": "3cc69cab-dda2-47a0-9ddb-d08dedc0f348",
   "metadata": {},
   "outputs": [],
   "source": []
  }
 ],
 "metadata": {
  "kernelspec": {
   "display_name": "venv",
   "language": "python",
   "name": "venv"
  },
  "language_info": {
   "codemirror_mode": {
    "name": "ipython",
    "version": 3
   },
   "file_extension": ".py",
   "mimetype": "text/x-python",
   "name": "python",
   "nbconvert_exporter": "python",
   "pygments_lexer": "ipython3",
   "version": "3.8.5"
  }
 },
 "nbformat": 4,
 "nbformat_minor": 5
}
