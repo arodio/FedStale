{
 "cells": [
  {
   "cell_type": "code",
   "execution_count": 1,
   "id": "680734a4-deba-425e-a3a8-8ff579a3e0b8",
   "metadata": {},
   "outputs": [],
   "source": [
    "from building_availability_matrices.markov_models.experiments import exp1"
   ]
  },
  {
   "cell_type": "code",
   "execution_count": 2,
   "id": "fb412f28-0f09-4bdc-9e23-7b5feb0f3862",
   "metadata": {},
   "outputs": [],
   "source": [
    "import matplotlib.pyplot as plt\n",
    "%matplotlib inline"
   ]
  },
  {
   "cell_type": "code",
   "execution_count": 3,
   "id": "2ee58b5a-6b5f-4a19-bacf-d17e79bb3ef3",
   "metadata": {},
   "outputs": [],
   "source": [
    "import numpy as np"
   ]
  },
  {
   "cell_type": "code",
   "execution_count": 80,
   "id": "55d173f3-233d-4ad8-ba41-65153e623289",
   "metadata": {},
   "outputs": [],
   "source": [
    "fin_res = [\n",
    "    exp1(t=20, T=100, k=10, _eps=0.5)\n",
    "    for _ in range(100)\n",
    "]"
   ]
  },
  {
   "cell_type": "code",
   "execution_count": 91,
   "id": "74676ae1-fbc7-4801-93fd-b54dec7339ae",
   "metadata": {},
   "outputs": [
    {
     "name": "stdout",
     "output_type": "stream",
     "text": [
      "[76 89 79 84 82 69 89]\n"
     ]
    },
    {
     "data": {
      "image/png": "[encoded data removed]",
      "text/plain": [
       "<Figure size 1200x1200 with 1 Axes>"
      ]
     },
     "metadata": {},
     "output_type": "display_data"
    }
   ],
   "source": [
    "tmp = exp1(t=20, T=100, k=10, _eps=0.5)\n",
    "print(np.sum(tmp, axis=1))\n",
    "plt.figure(figsize=(12, 12))  # Set the figure size here\n",
    "plt.imshow(tmp, cmap='binary')  # Display the image\n",
    "plt.savefig(\"tmp.png\")"
   ]
  },
  {
   "cell_type": "code",
   "execution_count": 24,
   "id": "7d137974-0771-4b91-bcb9-79f62ee1a856",
   "metadata": {},
   "outputs": [],
   "source": [
    "tmp = np.sum(np.vstack(fin_res), axis=-1)/10000"
   ]
  },
  {
   "cell_type": "code",
   "execution_count": 25,
   "id": "898d3a6d-a4e7-4e23-9acd-8def2a7f3228",
   "metadata": {},
   "outputs": [
    {
     "data": {
      "text/plain": [
       "0.7986797142857143"
      ]
     },
     "execution_count": 25,
     "metadata": {},
     "output_type": "execute_result"
    }
   ],
   "source": [
    "tmp.mean()"
   ]
  },
  {
   "cell_type": "code",
   "execution_count": 26,
   "id": "2887f3b6-1d34-43ce-a691-ad3af8452e41",
   "metadata": {},
   "outputs": [
    {
     "data": {
      "image/png": "[encoded data removed]",
      "text/plain": [
       "<Figure size 640x480 with 1 Axes>"
      ]
     },
     "metadata": {},
     "output_type": "display_data"
    }
   ],
   "source": [
    "plt.hist(tmp, bins=[(i+1)/10 for i in range(10)])\n",
    "plt.savefig(\"Corr_0_01__1.png\")"
   ]
  },
  {
   "cell_type": "code",
   "execution_count": 23,
   "id": "c84335e8-ae81-4534-9314-fbe04b5a3c31",
   "metadata": {},
   "outputs": [
    {
     "data": {
      "text/plain": [
       "array([86.08, 79.58, 82.08, 76.54, 77.33, 77.96, 81.34, 84.65, 77.97,\n",
       "       78.52, 84.76, 88.01, 79.78, 83.92, 77.16, 83.98, 86.  , 77.38,\n",
       "       85.26, 77.88, 92.49, 80.68, 82.99, 89.61, 79.07, 73.16, 82.45,\n",
       "       82.13, 66.21, 77.42, 82.45, 84.27, 85.8 , 75.52, 86.99, 81.17,\n",
       "       81.16, 82.92, 67.64, 86.24, 73.38, 81.84, 82.46, 85.56, 83.87,\n",
       "       73.42, 78.18, 83.27, 79.59, 81.52, 88.84, 85.08, 63.2 , 88.97,\n",
       "       73.59, 78.38, 81.84, 69.6 , 77.07, 82.18, 78.64, 83.29, 74.82,\n",
       "       74.12, 85.11, 78.53, 76.37, 74.6 , 76.54, 74.25, 74.82, 78.55,\n",
       "       83.14, 83.96, 80.74, 67.4 , 85.87, 74.  , 82.71, 80.02, 74.88,\n",
       "       79.74, 77.16, 76.63, 85.08, 72.07, 85.41, 80.13, 82.23, 80.13,\n",
       "       80.52, 80.57, 74.49, 69.22, 81.71, 78.82, 74.17, 87.91, 81.94,\n",
       "       87.79, 77.84, 78.86, 83.23, 85.4 , 79.92, 83.62, 81.16, 77.68,\n",
       "       87.38, 86.89, 85.27, 93.47, 82.47, 72.73, 82.78, 80.42, 85.65,\n",
       "       68.4 , 76.93, 83.8 , 81.44, 75.56, 65.69, 80.78, 82.19, 83.43,\n",
       "       79.43, 91.58, 87.11, 78.03, 82.61, 73.78, 87.01, 84.65, 74.59,\n",
       "       89.4 , 84.67, 73.18, 73.23, 80.73, 77.16, 83.72, 72.78, 76.36,\n",
       "       84.95, 88.61, 88.52, 82.68, 79.66, 81.29, 81.28, 73.95, 80.73,\n",
       "       82.69, 85.88, 92.31, 81.15, 77.25, 75.97, 84.15, 85.33, 80.62,\n",
       "       81.34, 90.19, 78.57, 84.99, 85.75, 78.7 , 85.93, 55.42, 79.76,\n",
       "       84.68, 78.22, 73.45, 71.09, 76.39, 72.03, 83.4 , 74.1 , 80.47,\n",
       "       71.93, 74.24, 83.12, 88.28, 75.2 , 87.16, 77.23, 76.87, 69.66,\n",
       "       84.11, 83.57, 69.25, 77.83, 79.42, 81.62, 79.26, 86.04, 75.51,\n",
       "       79.55, 76.36, 69.49, 73.44, 77.58, 71.77, 78.56, 72.2 , 81.99,\n",
       "       65.09, 77.77, 84.61, 77.72, 83.46, 79.26, 71.2 , 82.02, 80.26,\n",
       "       72.93, 68.65, 75.  , 71.12, 74.1 , 67.88, 77.42, 74.56, 91.04,\n",
       "       74.87, 79.46, 85.5 , 84.31, 86.74, 81.3 , 75.98, 84.84, 85.06,\n",
       "       78.18, 70.84, 81.32, 77.37, 79.52, 79.08, 83.06, 90.66, 67.58,\n",
       "       74.64, 75.02, 81.67, 78.67, 87.7 , 82.54, 76.4 , 86.81, 87.52,\n",
       "       72.5 , 79.07, 86.29, 79.6 , 75.64, 87.95, 72.83, 89.29, 76.77,\n",
       "       76.22, 84.04, 83.84, 84.12, 85.43, 83.35, 72.55, 70.3 , 73.18,\n",
       "       79.55, 76.09, 73.06, 72.36, 83.73, 81.51, 81.33, 83.11, 78.88,\n",
       "       84.  , 82.54, 78.31, 76.86, 84.04, 85.19, 76.66, 80.01, 78.58,\n",
       "       80.04, 87.69, 79.07, 84.73, 73.75, 76.2 , 83.5 , 74.44, 82.2 ,\n",
       "       84.38, 88.21, 67.4 , 73.4 , 75.85, 86.71, 83.74, 87.02, 78.75,\n",
       "       84.02, 81.85, 77.89, 77.69, 83.38, 79.12, 86.99, 77.3 , 72.86,\n",
       "       77.96, 84.51, 78.07, 78.64, 74.2 , 80.51, 81.73, 84.59, 82.44,\n",
       "       74.37, 71.39, 88.65, 80.43, 86.35, 78.53, 75.28, 75.98, 78.83,\n",
       "       84.42, 77.22, 73.3 , 73.86, 82.12, 77.66, 76.66, 81.69, 76.18,\n",
       "       68.03, 63.38, 86.26, 89.52, 90.33, 81.15, 79.92, 78.38, 77.9 ,\n",
       "       77.38, 90.18, 84.69, 83.  , 84.43, 77.95, 88.28, 81.76, 79.91,\n",
       "       86.15, 78.25, 81.19, 83.59, 70.31, 79.29, 81.11, 77.48, 76.09,\n",
       "       82.19, 82.24, 69.05, 75.25, 90.69, 91.11, 78.35, 90.2 , 78.9 ,\n",
       "       74.22, 82.71, 87.15, 91.37, 80.19, 81.65, 81.02, 80.83, 71.76,\n",
       "       79.18, 77.78, 92.56, 83.08, 86.87, 80.83, 82.04, 76.99, 85.48,\n",
       "       78.44, 81.33, 74.01, 76.57, 75.05, 82.85, 88.72, 68.51, 86.59,\n",
       "       77.45, 77.62, 72.21, 74.73, 76.73, 84.85, 82.4 , 81.66, 83.14,\n",
       "       79.25, 70.63, 79.87, 79.9 , 84.86, 80.93, 73.46, 73.27, 75.96,\n",
       "       82.74, 75.71, 79.71, 88.52, 80.07, 88.36, 67.28, 81.81, 82.  ,\n",
       "       75.15, 84.8 , 76.78, 85.18, 79.27, 86.54, 87.01, 77.8 , 78.31,\n",
       "       83.91, 74.01, 83.14, 77.52, 79.01, 85.24, 76.5 , 79.49, 82.16,\n",
       "       64.74, 82.02, 88.45, 77.28, 81.01, 79.14, 77.25, 75.05, 73.43,\n",
       "       89.35, 82.4 , 79.49, 76.4 , 68.29, 76.91, 90.66, 80.25, 78.08,\n",
       "       77.44, 80.46, 85.49, 84.04, 65.1 , 82.12, 77.17, 77.9 , 74.85,\n",
       "       73.58, 76.59, 81.54, 73.21, 79.23, 65.9 , 88.22, 83.17, 73.5 ,\n",
       "       89.86, 75.78, 69.46, 79.73, 77.84, 73.89, 80.59, 76.12, 79.89,\n",
       "       82.58, 81.14, 86.4 , 80.04, 84.03, 77.05, 76.3 , 78.79, 77.72,\n",
       "       87.14, 73.9 , 77.12, 82.47, 67.31, 80.88, 70.98, 87.82, 78.93,\n",
       "       79.78, 72.15, 81.26, 81.5 , 75.13, 81.5 , 83.64, 85.96, 84.93,\n",
       "       78.45, 79.7 , 75.22, 87.98, 76.23, 82.78, 75.02, 82.98, 76.48,\n",
       "       78.04, 82.6 , 74.04, 82.25, 85.64, 85.17, 70.28, 81.47, 90.42,\n",
       "       78.8 , 87.62, 68.28, 80.4 , 74.97, 88.16, 77.48, 75.77, 88.83,\n",
       "       81.43, 83.35, 67.65, 75.67, 81.09, 91.2 , 83.23, 72.96, 69.7 ,\n",
       "       82.32, 83.16, 66.1 , 76.96, 87.01, 77.06, 66.35, 86.64, 78.82,\n",
       "       76.03, 87.04, 86.29, 75.01, 76.79, 77.34, 81.39, 66.23, 87.74,\n",
       "       89.63, 76.89, 89.49, 80.96, 80.74, 76.56, 83.03, 83.42, 75.93,\n",
       "       79.25, 81.31, 82.9 , 80.82, 81.04, 66.01, 77.31, 81.51, 79.3 ,\n",
       "       74.11, 73.2 , 74.26, 87.14, 78.06, 76.51, 80.95, 82.9 , 82.06,\n",
       "       80.1 , 83.55, 79.99, 83.64, 84.23, 83.99, 88.28, 83.61, 79.32,\n",
       "       93.52, 79.5 , 77.77, 79.99, 87.92, 79.76, 81.15, 71.34, 84.39,\n",
       "       76.89, 82.29, 77.72, 71.07, 76.81, 82.27, 91.06, 80.39, 71.46,\n",
       "       85.71, 79.78, 68.27, 82.45, 79.09, 72.12, 84.96, 79.2 , 81.87,\n",
       "       87.81, 75.19, 80.25, 84.42, 81.51, 87.9 , 73.74, 77.74, 82.71,\n",
       "       82.44, 89.03, 77.84, 80.06, 74.31, 76.6 , 82.13, 88.63, 83.74,\n",
       "       85.89, 86.03, 89.6 , 82.69, 76.53, 78.07, 77.02, 79.  , 82.49,\n",
       "       70.87, 78.57, 75.96, 82.98, 75.47, 76.34, 83.47, 77.11, 76.93,\n",
       "       80.3 , 78.69, 81.71, 89.38, 74.27, 75.39, 78.7 , 82.25, 85.32,\n",
       "       77.67, 83.92, 73.96, 88.16, 79.93, 85.09, 85.48, 68.75, 85.56,\n",
       "       85.22, 72.24, 80.21, 80.13, 76.4 , 82.56, 81.44])"
      ]
     },
     "execution_count": 23,
     "metadata": {},
     "output_type": "execute_result"
    }
   ],
   "source": [
    "tmp"
   ]
  },
  {
   "cell_type": "code",
   "execution_count": 75,
   "id": "1f17e42f-0824-4420-ab63-534325f21a2e",
   "metadata": {},
   "outputs": [
    {
     "data": {
      "text/plain": [
       "(36, 14)"
      ]
     },
     "execution_count": 75,
     "metadata": {},
     "output_type": "execute_result"
    }
   ],
   "source": [
    "k = [0,0,0,0,0,1,1,1,1,0,0,0,0,0,0,0,0,0,0,1,1,1,1,1,1,1,1,1,1,0,0,0,0,0,0,0]\n",
    "len(k), sum(k)"
   ]
  },
  {
   "cell_type": "code",
   "execution_count": 79,
   "id": "812fe953-9061-4e08-b449-53c5955fe3e6",
   "metadata": {},
   "outputs": [
    {
     "data": {
      "text/plain": [
       "(36, 14)"
      ]
     },
     "execution_count": 79,
     "metadata": {},
     "output_type": "execute_result"
    }
   ],
   "source": [
    "k = [1,0,1,0,0,0,0,1,0,0,1,0,1,0,1,0,1,1,0,0,0,1,0,0,1,1,1,0,0,0,1,1,0,0,0,0]\n",
    "len(k), sum(k)"
   ]
  },
  {
   "cell_type": "code",
   "execution_count": null,
   "id": "1a24d4d1-ab6c-49e2-8de3-ded9204ab0be",
   "metadata": {},
   "outputs": [],
   "source": []
  }
 ],
 "metadata": {
  "kernelspec": {
   "display_name": "venv",
   "language": "python",
   "name": "venv"
  },
  "language_info": {
   "codemirror_mode": {
    "name": "ipython",
    "version": 3
   },
   "file_extension": ".py",
   "mimetype": "text/x-python",
   "name": "python",
   "nbconvert_exporter": "python",
   "pygments_lexer": "ipython3",
   "version": "3.12.6"
  }
 },
 "nbformat": 4,
 "nbformat_minor": 5
}
