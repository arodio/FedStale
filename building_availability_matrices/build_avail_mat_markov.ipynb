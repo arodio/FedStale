{
 "cells": [
  {
   "cell_type": "code",
   "execution_count": null,
   "id": "3cc69cab-dda2-47a0-9ddb-d08dedc0f348",
   "metadata": {},
   "outputs": [],
   "source": [
    "import pandas as pd\n",
    "from markov_models.experiments import exp1\n",
    "\n",
    "# CLIENTS = {\n",
    "#     \"C0\": (0.4, 0.6),\n",
    "#     \"C1\": (0.4, 0.6),\n",
    "#     \"C2\": (0.4, 0.6),\n",
    "#     \"C3\": (0.4, 0.6),\n",
    "#     \"C4\": (0.4, 0.6),\n",
    "#     \"C5\": (0.4, 0.6),\n",
    "#     \"C6\": (0.4, 0.6),\n",
    "# }\n",
    "\n",
    "# # CLIENTS_CORR = {\n",
    "# #     'C0' : (0.04, 0.06),\n",
    "# #     'C1' : (0.04, 0.06),\n",
    "# #     'C2' : (0.04, 0.06),\n",
    "# #     'C3' : (0.04, 0.06),\n",
    "# #     'C4' : (0.04, 0.06),\n",
    "# #     'C5' : (0.04, 0.06),\n",
    "# #     'C6' : (0.04, 0.06)\n",
    "# # }\n",
    "\n",
    "# CLIENTS_CORR = {\n",
    "#     \"C0\": (0.94, 0.96),\n",
    "#     \"C1\": (0.94, 0.96),\n",
    "#     \"C2\": (0.94, 0.96),\n",
    "#     \"C3\": (0.94, 0.96),\n",
    "#     \"C4\": (0.94, 0.96),\n",
    "#     \"C5\": (0.94, 0.96),\n",
    "#     \"C6\": (0.94, 0.96),\n",
    "# }\n",
    "\n",
    "\n",
    "# def save_avail_mat(avail_mat, key_word):\n",
    "#     pd.DataFrame(\n",
    "#         data=avail_mat,\n",
    "#         columns=[f\"t{i}\" for i in range(100)],\n",
    "#         index=[f\"C_{i}\" for i in range(7)],\n",
    "#     ).to_csv(\n",
    "#         f\"building_availability_matrices/availability_matrices/av-mat-3/av-mat_markov_spots_{key_word}.csv\"\n",
    "#     )\n",
    "\n",
    "\n",
    "# avail_mat = gen_avail_mat(CLIENTS_CORR, 100)\n",
    "# save_avail_mat(avail_mat=avail_mat, key_word=\"corr\")\n",
    "\n",
    "# avail_mat = gen_avail_mat(CLIENTS, 100)\n",
    "# save_avail_mat(avail_mat=avail_mat, key_word=\"uncorr\")\n",
    "\n",
    "\n",
    "exp1(t=200, T=1000)"
   ]
  }
 ],
 "metadata": {
  "kernelspec": {
   "display_name": "venv",
   "language": "python",
   "name": "python3"
  },
  "language_info": {
   "codemirror_mode": {
    "name": "ipython",
    "version": 3
   },
   "file_extension": ".py",
   "mimetype": "text/x-python",
   "name": "python",
   "nbconvert_exporter": "python",
   "pygments_lexer": "ipython3",
   "version": "3.12.6"
  }
 },
 "nbformat": 4,
 "nbformat_minor": 5
}
